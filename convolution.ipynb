{
 "cells": [
  {
   "cell_type": "markdown",
   "metadata": {},
   "source": [
    "## Loading in mnist data"
   ]
  },
  {
   "cell_type": "code",
   "execution_count": 20,
   "metadata": {},
   "outputs": [
    {
     "name": "stdout",
     "output_type": "stream",
     "text": [
      "Downloading training/validation dataset... done.\n",
      "Downloading training/validation dataset... done.\n"
     ]
    }
   ],
   "source": [
    "import pandas as pd\n",
    "\n",
    "# Download train/val data\n",
    "print(\"Downloading training/validation dataset... \", end='')\n",
    "trainval_df = pd.read_csv(\"https://ashwhall.github.io/download/mnist_csv/mnist_train.zip\", header=None)\n",
    "print(\"done.\")\n",
    "\n",
    "# Download test data\n",
    "print(\"Downloading training/validation dataset... \", end='')\n",
    "test_df = pd.read_csv(\"https://ashwhall.github.io/download/mnist_csv/mnist_test.zip\", header=None)\n",
    "print(\"done.\")"
   ]
  },
  {
   "cell_type": "code",
   "execution_count": 21,
   "metadata": {},
   "outputs": [
    {
     "name": "stdout",
     "output_type": "stream",
     "text": [
      "Train DataFrame:      (48000, 785)\n",
      "Validation DataFrame: (12000, 785)\n",
      "Test DataFrame:       (10000, 785)\n"
     ]
    }
   ],
   "source": [
    "# Sample the train examples\n",
    "train_df = trainval_df.sample(frac=0.8, random_state=42)\n",
    "# Use 'drop' to take what's left\n",
    "val_df = trainval_df.drop(train_df.index)\n",
    "\n",
    "print(\"Train DataFrame:     \", train_df.shape)\n",
    "print(\"Validation DataFrame:\", val_df.shape)\n",
    "print(\"Test DataFrame:      \", test_df.shape)"
   ]
  },
  {
   "cell_type": "code",
   "execution_count": 22,
   "metadata": {},
   "outputs": [
    {
     "data": {
      "text/html": [
       "<div>\n",
       "<style scoped>\n",
       "    .dataframe tbody tr th:only-of-type {\n",
       "        vertical-align: middle;\n",
       "    }\n",
       "\n",
       "    .dataframe tbody tr th {\n",
       "        vertical-align: top;\n",
       "    }\n",
       "\n",
       "    .dataframe thead th {\n",
       "        text-align: right;\n",
       "    }\n",
       "</style>\n",
       "<table border=\"1\" class=\"dataframe\">\n",
       "  <thead>\n",
       "    <tr style=\"text-align: right;\">\n",
       "      <th></th>\n",
       "      <th>0</th>\n",
       "      <th>1</th>\n",
       "      <th>2</th>\n",
       "      <th>3</th>\n",
       "      <th>4</th>\n",
       "      <th>5</th>\n",
       "      <th>6</th>\n",
       "      <th>7</th>\n",
       "      <th>8</th>\n",
       "      <th>9</th>\n",
       "      <th>...</th>\n",
       "      <th>775</th>\n",
       "      <th>776</th>\n",
       "      <th>777</th>\n",
       "      <th>778</th>\n",
       "      <th>779</th>\n",
       "      <th>780</th>\n",
       "      <th>781</th>\n",
       "      <th>782</th>\n",
       "      <th>783</th>\n",
       "      <th>784</th>\n",
       "    </tr>\n",
       "  </thead>\n",
       "  <tbody>\n",
       "    <tr>\n",
       "      <th>12628</th>\n",
       "      <td>7</td>\n",
       "      <td>0</td>\n",
       "      <td>0</td>\n",
       "      <td>0</td>\n",
       "      <td>0</td>\n",
       "      <td>0</td>\n",
       "      <td>0</td>\n",
       "      <td>0</td>\n",
       "      <td>0</td>\n",
       "      <td>0</td>\n",
       "      <td>...</td>\n",
       "      <td>0</td>\n",
       "      <td>0</td>\n",
       "      <td>0</td>\n",
       "      <td>0</td>\n",
       "      <td>0</td>\n",
       "      <td>0</td>\n",
       "      <td>0</td>\n",
       "      <td>0</td>\n",
       "      <td>0</td>\n",
       "      <td>0</td>\n",
       "    </tr>\n",
       "    <tr>\n",
       "      <th>37730</th>\n",
       "      <td>3</td>\n",
       "      <td>0</td>\n",
       "      <td>0</td>\n",
       "      <td>0</td>\n",
       "      <td>0</td>\n",
       "      <td>0</td>\n",
       "      <td>0</td>\n",
       "      <td>0</td>\n",
       "      <td>0</td>\n",
       "      <td>0</td>\n",
       "      <td>...</td>\n",
       "      <td>0</td>\n",
       "      <td>0</td>\n",
       "      <td>0</td>\n",
       "      <td>0</td>\n",
       "      <td>0</td>\n",
       "      <td>0</td>\n",
       "      <td>0</td>\n",
       "      <td>0</td>\n",
       "      <td>0</td>\n",
       "      <td>0</td>\n",
       "    </tr>\n",
       "    <tr>\n",
       "      <th>39991</th>\n",
       "      <td>8</td>\n",
       "      <td>0</td>\n",
       "      <td>0</td>\n",
       "      <td>0</td>\n",
       "      <td>0</td>\n",
       "      <td>0</td>\n",
       "      <td>0</td>\n",
       "      <td>0</td>\n",
       "      <td>0</td>\n",
       "      <td>0</td>\n",
       "      <td>...</td>\n",
       "      <td>0</td>\n",
       "      <td>0</td>\n",
       "      <td>0</td>\n",
       "      <td>0</td>\n",
       "      <td>0</td>\n",
       "      <td>0</td>\n",
       "      <td>0</td>\n",
       "      <td>0</td>\n",
       "      <td>0</td>\n",
       "      <td>0</td>\n",
       "    </tr>\n",
       "    <tr>\n",
       "      <th>8525</th>\n",
       "      <td>9</td>\n",
       "      <td>0</td>\n",
       "      <td>0</td>\n",
       "      <td>0</td>\n",
       "      <td>0</td>\n",
       "      <td>0</td>\n",
       "      <td>0</td>\n",
       "      <td>0</td>\n",
       "      <td>0</td>\n",
       "      <td>0</td>\n",
       "      <td>...</td>\n",
       "      <td>0</td>\n",
       "      <td>0</td>\n",
       "      <td>0</td>\n",
       "      <td>0</td>\n",
       "      <td>0</td>\n",
       "      <td>0</td>\n",
       "      <td>0</td>\n",
       "      <td>0</td>\n",
       "      <td>0</td>\n",
       "      <td>0</td>\n",
       "    </tr>\n",
       "    <tr>\n",
       "      <th>8279</th>\n",
       "      <td>3</td>\n",
       "      <td>0</td>\n",
       "      <td>0</td>\n",
       "      <td>0</td>\n",
       "      <td>0</td>\n",
       "      <td>0</td>\n",
       "      <td>0</td>\n",
       "      <td>0</td>\n",
       "      <td>0</td>\n",
       "      <td>0</td>\n",
       "      <td>...</td>\n",
       "      <td>0</td>\n",
       "      <td>0</td>\n",
       "      <td>0</td>\n",
       "      <td>0</td>\n",
       "      <td>0</td>\n",
       "      <td>0</td>\n",
       "      <td>0</td>\n",
       "      <td>0</td>\n",
       "      <td>0</td>\n",
       "      <td>0</td>\n",
       "    </tr>\n",
       "  </tbody>\n",
       "</table>\n",
       "<p>5 rows × 785 columns</p>\n",
       "</div>"
      ],
      "text/plain": [
       "       0    1    2    3    4    5    6    7    8    9    ...  775  776  777  \\\n",
       "12628    7    0    0    0    0    0    0    0    0    0  ...    0    0    0   \n",
       "37730    3    0    0    0    0    0    0    0    0    0  ...    0    0    0   \n",
       "39991    8    0    0    0    0    0    0    0    0    0  ...    0    0    0   \n",
       "8525     9    0    0    0    0    0    0    0    0    0  ...    0    0    0   \n",
       "8279     3    0    0    0    0    0    0    0    0    0  ...    0    0    0   \n",
       "\n",
       "       778  779  780  781  782  783  784  \n",
       "12628    0    0    0    0    0    0    0  \n",
       "37730    0    0    0    0    0    0    0  \n",
       "39991    0    0    0    0    0    0    0  \n",
       "8525     0    0    0    0    0    0    0  \n",
       "8279     0    0    0    0    0    0    0  \n",
       "\n",
       "[5 rows x 785 columns]"
      ]
     },
     "execution_count": 22,
     "metadata": {},
     "output_type": "execute_result"
    }
   ],
   "source": [
    "train_df.head()"
   ]
  },
  {
   "cell_type": "code",
   "execution_count": 23,
   "metadata": {},
   "outputs": [
    {
     "name": "stdout",
     "output_type": "stream",
     "text": [
      "Train image shape: (48000, 28, 28, 1)\n"
     ]
    }
   ],
   "source": [
    "import numpy as np\n",
    "\n",
    "# A utility function to extract the labels and images from a dataframe\n",
    "def extract_images_labels(df):\n",
    "    # Extract the first column values as labels\n",
    "    labels = np.array(df.iloc[:, 0])\n",
    "\n",
    "    # Extract the remaining columns as images\n",
    "    images = np.array(df.iloc[:, 1:])\n",
    "\n",
    "    # Reshape the images and convert to floats\n",
    "    images = images.reshape(-1, 28, 28, 1).astype(np.float32)\n",
    "\n",
    "    return images, labels\n",
    "\n",
    "# Perform the extraction on each of the DataFrames\n",
    "train_images, train_labels = extract_images_labels(train_df)\n",
    "val_images, val_labels = extract_images_labels(val_df)\n",
    "test_images, test_labels = extract_images_labels(test_df)\n",
    "\n",
    "print(\"Train image shape:\", train_images.shape)"
   ]
  },
  {
   "cell_type": "code",
   "execution_count": 24,
   "metadata": {},
   "outputs": [
    {
     "data": {
      "image/png": "[encoded data removed]",
      "text/plain": [
       "<Figure size 1200x600 with 16 Axes>"
      ]
     },
     "metadata": {},
     "output_type": "display_data"
    }
   ],
   "source": [
    "# Import a graph-plotting library\n",
    "import matplotlib.pyplot as plt\n",
    "\n",
    "# This function takes a list of images and a list of labels and plots the first n_images\n",
    "def plot_some_images(images, labels, n_images=16):\n",
    "    # Set the figure size\n",
    "    plt.figure(figsize=(12, 6))\n",
    "\n",
    "    for i in range(n_images):\n",
    "        # Select a subplot in a grid\n",
    "        plt.subplot(4, 4, i + 1)\n",
    "        img = images[i]\n",
    "        # Select the channel dimension, depending on data format\n",
    "        img = img[0] if img.shape[0] == 1 else img[..., 0]\n",
    "\n",
    "        # Plot the image with title and no axis ticks\n",
    "        plt.imshow(img, cmap='gray', interpolation='nearest')\n",
    "        plt.title(f\"Value: {labels[i]}\")\n",
    "        plt.axis('off')\n",
    "    plt.show()\n",
    "\n",
    "# Plot some training images and labels - feel free to display the validation and\n",
    "# test images instead\n",
    "plot_some_images(train_images, train_labels)"
   ]
  },
  {
   "cell_type": "code",
   "execution_count": 25,
   "metadata": {},
   "outputs": [
    {
     "data": {
      "image/png": "[encoded data removed]",
      "text/plain": [
       "<Figure size 640x480 with 1 Axes>"
      ]
     },
     "metadata": {},
     "output_type": "display_data"
    },
    {
     "data": {
      "image/png": "[encoded data removed]",
      "text/plain": [
       "<Figure size 640x480 with 1 Axes>"
      ]
     },
     "metadata": {},
     "output_type": "display_data"
    },
    {
     "data": {
      "image/png": "[encoded data removed]",
      "text/plain": [
       "<Figure size 640x480 with 1 Axes>"
      ]
     },
     "metadata": {},
     "output_type": "display_data"
    }
   ],
   "source": [
    "def plot_label_distribution(labels, split):\n",
    "    # Plot a histogram with the given title\n",
    "    plt.title(f\"{split} distribution\")\n",
    "    plt.hist(labels, bins=10)\n",
    "    # Label the axes\n",
    "    plt.xlabel(\"Label value\")\n",
    "    plt.ylabel(\"Num examples\")\n",
    "    # Add the class labels along the x axis\n",
    "    plt.xticks(range(10))\n",
    "    plt.show()\n",
    "\n",
    "# Plot the distribution of each partition\n",
    "plot_label_distribution(train_labels, \"Train\")\n",
    "plot_label_distribution(val_labels, \"Validation\")\n",
    "plot_label_distribution(train_labels, \"Test\")"
   ]
  },
  {
   "cell_type": "code",
   "execution_count": 29,
   "metadata": {},
   "outputs": [
    {
     "name": "stdout",
     "output_type": "stream",
     "text": [
      "images shape:  torch.Size([64, 1, 28, 28])\n"
     ]
    }
   ],
   "source": [
    "# Dataset class\n",
    "from torch.utils.data import Dataset\n",
    "from torch.utils.data import DataLoader\n",
    "class MNISTDataset(Dataset):\n",
    "\n",
    "    def __init__(self, images, labels):\n",
    "        # TODO: Store the images and labels as member variables\n",
    "        #       self.images and self.labels respectively.\n",
    "        self.images = images\n",
    "        self.labels = labels\n",
    "\n",
    "\n",
    "    def __len__(self):\n",
    "        return len(self.images)\n",
    "\n",
    "    def __getitem__(self, idx):\n",
    "\n",
    "        image = self.images[idx]\n",
    "        label = self.labels[idx]\n",
    "\n",
    "\n",
    "        return image, label\n",
    "    \n",
    "\n",
    "# prepare datasets and loaders\n",
    "train_dataset = MNISTDataset(train_images,\n",
    "                             train_labels)\n",
    "val_dataset = MNISTDataset(val_images,\n",
    "                             val_labels)\n",
    "test_dataset = MNISTDataset(test_images,\n",
    "                             test_labels)\n",
    "\n",
    "\n",
    "train_dataset = MNISTDataset(train_images,\n",
    "                             train_labels)\n",
    "\n",
    "BATCH_SIZE = 64\n",
    "train_loader = DataLoader(train_dataset, batch_size=BATCH_SIZE, shuffle=True)\n",
    "val_loader = DataLoader(val_dataset, batch_size=BATCH_SIZE, shuffle=True)\n",
    "test_loader = DataLoader(test_dataset, batch_size=BATCH_SIZE, shuffle=True)\n",
    "\n",
    "\n",
    "# transpose for training\n",
    "for batch in train_loader:\n",
    "  images, labels = batch\n",
    "  images = images.permute(0,3,1,2)\n",
    "  print(\"images shape: \", images.shape)\n",
    "  break\n"
   ]
  },
  {
   "cell_type": "markdown",
   "metadata": {},
   "source": [
    "## Training Time"
   ]
  },
  {
   "cell_type": "code",
   "execution_count": 33,
   "metadata": {},
   "outputs": [
    {
     "name": "stdout",
     "output_type": "stream",
     "text": [
      "Training on cpu\n"
     ]
    }
   ],
   "source": [
    "import torch\n",
    "# By default we'll assume that GPU acceleration isn't available\n",
    "device = torch.device(\"cpu\")\n",
    "\n",
    "# Check if GPU acceleration is available (requires a CUDA-compatible GPU) and\n",
    "# set the device variable accordingly. If the computer has more than one GPU,\n",
    "# you can specify which one by replacing 0 with a different index\n",
    "if torch.cuda.is_available():\n",
    "    device = torch.device(\"cuda:0\")\n",
    "    torch.cuda.set_device(device)\n",
    "\n",
    "print(\"Training on\", device)"
   ]
  },
  {
   "cell_type": "markdown",
   "metadata": {},
   "source": [
    "Basic Model to get started"
   ]
  },
  {
   "cell_type": "code",
   "execution_count": 34,
   "metadata": {},
   "outputs": [],
   "source": [
    "import torch.nn as nn\n",
    "\n",
    "# Custom models need to subclass nn.Module\n",
    "class MLP(nn.Module):\n",
    "    def __init__(self,\n",
    "                 device,\n",
    "                 input_size=1*28*28, # default to num_channels * height * width\n",
    "                 output_size=10      # default to the number of classes\n",
    "                 ):\n",
    "        super().__init__()\n",
    "\n",
    "        # Write the classifier layers here.\n",
    "        self.seq = nn.Sequential(\n",
    "            nn.Flatten(),\n",
    "            nn.Linear(input_size, 32),\n",
    "            nn.ReLU(),\n",
    "            nn.Linear(32, output_size)\n",
    "\n",
    "        )\n",
    "        # Transfer the model weights to the GPU\n",
    "        self.to(device)\n",
    "\n",
    "    def forward(self, x):\n",
    "        return self.seq(x)"
   ]
  },
  {
   "cell_type": "markdown",
   "metadata": {},
   "source": [
    "Main training loop"
   ]
  },
  {
   "cell_type": "code",
   "execution_count": null,
   "metadata": {},
   "outputs": [
    {
     "name": "stdout",
     "output_type": "stream",
     "text": [
      "Tensorboard logs will be written to: logs/MLP version 1 2025-04-03 16:12:14.008085\n"
     ]
    },
    {
     "data": {
      "application/vnd.jupyter.widget-view+json": {
       "model_id": "a0c2120d479e47888d6381a0f2f1ed64",
       "version_major": 2,
       "version_minor": 0
      },
      "text/plain": [
       "  0%|          | 0/10 [00:00<?, ?it/s]"
      ]
     },
     "metadata": {},
     "output_type": "display_data"
    },
    {
     "name": "stdout",
     "output_type": "stream",
     "text": [
      "epoch: 1 loss: 2.754\n",
      "epoch: 1 accuracy: 0.516\n",
      "epoch: 2 loss: 0.816\n",
      "epoch: 2 accuracy: 0.788\n",
      "epoch: 3 loss: 0.542\n",
      "epoch: 3 accuracy: 0.859\n",
      "epoch: 4 loss: 0.394\n",
      "epoch: 4 accuracy: 0.894\n",
      "epoch: 5 loss: 0.321\n",
      "epoch: 5 accuracy: 0.912\n",
      "epoch: 6 loss: 0.274\n",
      "epoch: 6 accuracy: 0.924\n",
      "epoch: 7 loss: 0.240\n",
      "epoch: 7 accuracy: 0.932\n",
      "epoch: 8 loss: 0.212\n",
      "epoch: 8 accuracy: 0.939\n",
      "epoch: 9 loss: 0.191\n",
      "epoch: 9 accuracy: 0.945\n",
      "epoch: 10 loss: 0.172\n",
      "epoch: 10 accuracy: 0.949\n",
      "finished training\n",
      "The final test accuracy is:  tensor(0.9380)\n"
     ]
    }
   ],
   "source": [
    "# tqdm can be used to print a nice progress bar during training\n",
    "from tqdm.notebook import tqdm\n",
    "from datetime import datetime\n",
    "import torchmetrics\n",
    "from torch.utils.tensorboard import SummaryWriter\n",
    "import torch.optim as optim\n",
    "\n",
    "# TODO: change exp_name whenever you try a different model or change\n",
    "#       something in your model. It is used for tensorboard logging.\n",
    "exp_name = \"MLP version 1\"\n",
    "\n",
    "# The SummaryWriter requires a directory path to write logs. We will construct a\n",
    "# string using the exp_name and a date attached to the end. This way if we run the\n",
    "# same experiment twice it will be listed separate on tensorboard.\n",
    "log_name = \"logs/\" + exp_name + f\" {datetime.now()}\"\n",
    "print(\"Tensorboard logs will be written to:\", log_name)\n",
    "writer = SummaryWriter(log_name)\n",
    "\n",
    "criterion = nn.CrossEntropyLoss()\n",
    "\n",
    "# Use MLP as the model\n",
    "model = DeepConvNet(device)\n",
    "\n",
    "# Use the Adam optimizer with initial learning rate set to 0.001\n",
    "optimizer = torch.optim.Adam(model.parameters(), lr=0.0001)\n",
    "\n",
    "#initialize metric\n",
    "train_accuracy = torchmetrics.Accuracy(task = 'multiclass', num_classes = 10).to(device)\n",
    "val_accuracy = torchmetrics.Accuracy(task = 'multiclass', num_classes = 10).to(device)\n",
    "\n",
    "# The number of times we loop over the entire dataset\n",
    "num_epochs = 10\n",
    "\n",
    "for epoch in tqdm(range(num_epochs)):\n",
    "\n",
    "    # The following is computed for every complete pass through the dataset\n",
    "    epoch_train_loss = 0.0\n",
    "    epoch_accuracy = 0.0\n",
    "\n",
    "    for data in train_loader:\n",
    "\n",
    "        images, labels = data\n",
    "        images, labels = images.to(device), labels.to(device)\n",
    "\n",
    "        #TODO: take the permute code you wrote in one of the early cells and use\n",
    "        #      it here to permute the images tensor so that it has the right shape of [64, 1, 28, 28]\n",
    "        images = images.permute(0,3,1,2)\n",
    "\n",
    "\n",
    "        # Zero the parameter gradients\n",
    "        optimizer.zero_grad()\n",
    "\n",
    "        # Forward\n",
    "        outputs = model(images)\n",
    "\n",
    "        # Compute the loss using the loss function\n",
    "        loss = criterion(outputs, labels)\n",
    "        epoch_train_loss += loss.item()\n",
    "\n",
    "        # Perform backprop using the loss\n",
    "        loss.backward()\n",
    "        optimizer.step()\n",
    "\n",
    "        # Calculate accuracy for this batch\n",
    "        acc = train_accuracy(outputs, labels)\n",
    "\n",
    "    # adds the training loss and accuracy to tensorboard\n",
    "    writer.add_scalar(\"Loss/training\", epoch_train_loss, epoch)\n",
    "    writer.add_scalar(\"Accuracy/training\", train_accuracy.compute(), epoch)\n",
    "\n",
    "    # print training statistics\n",
    "    print('epoch: %d loss: %.3f' % (epoch + 1, epoch_train_loss / len(train_loader)))\n",
    "    print('epoch: %d accuracy: %.3f' % (epoch + 1, train_accuracy.compute()))\n",
    "\n",
    "    # reset for the next epoch\n",
    "    train_accuracy.reset()\n",
    "    # The code below computes the validation results\n",
    "    for data in val_loader:\n",
    "          images, labels = data\n",
    "          images, labels = images.to(device), labels.to(device)\n",
    "\n",
    "          # TODO: need to put the permute function call here too.\n",
    "          images = images.permute(0,3,1,2)\n",
    "          # Put the model into eval mode and disable gradient calculations\n",
    "          model.eval()\n",
    "          with torch.no_grad():\n",
    "              # Perform inference on the current batch of inputs\n",
    "              outputs = model(images)\n",
    "\n",
    "          acc = val_accuracy(outputs, labels)\n",
    "    # adds the validation accuracy to tensorboard\n",
    "    writer.add_scalar(\"Accuracy/validation\", val_accuracy.compute(), epoch)\n",
    "    # reset for the next epoch\n",
    "    val_accuracy.reset()\n",
    "\n",
    "print(\"finished training\")\n",
    "test_accuracy = torchmetrics.Accuracy(task = 'multiclass', num_classes = 10).to(device)\n",
    "test_inputs = []\n",
    "test_predictions = []\n",
    "test_targets = []\n",
    "# We can compute the final test accuracy here\n",
    "for data in test_loader:\n",
    "  images, labels = data\n",
    "  images, labels = images.to(device), labels.to(device)\n",
    "\n",
    "  test_inputs.extend(images.detach().cpu().numpy())\n",
    "  test_targets.extend(labels.detach().cpu().numpy())\n",
    "\n",
    "  # TODO: need to put the permute function call here too.\n",
    "  images = images.permute(0,3,1,2)\n",
    "\n",
    "  # Put the model into eval mode and disable gradient calculations\n",
    "  model.eval()\n",
    "  with torch.no_grad():\n",
    "      # Perform inference on the current batch of inputs\n",
    "      outputs = model(images)\n",
    "      test_predictions.extend(outputs.detach().cpu().numpy())\n",
    "\n",
    "  acc = test_accuracy(outputs, labels)\n",
    "\n",
    "# Convert class prediction scores to the digits they correspond\n",
    "test_predictions = np.argmax(test_predictions, 1)\n",
    "test_inputs = np.array(test_inputs)\n",
    "print(\"The final test accuracy is: \", test_accuracy.compute())\n",
    "\n",
    "# reset internal state to make the metric ready for new data\n",
    "test_accuracy.reset()\n"
   ]
  },
  {
   "cell_type": "markdown",
   "metadata": {},
   "source": [
    "Deeper model"
   ]
  },
  {
   "cell_type": "code",
   "execution_count": 38,
   "metadata": {},
   "outputs": [],
   "source": [
    "class DeepConvNet(nn.Module):\n",
    "    def __init__(self, device):\n",
    "        super().__init__()\n",
    "        # TODO 1: Initialise a Sequential module\n",
    "        self.feature_extractor = nn.Sequential(\n",
    "            nn.Conv2d(1,8,3, padding=0),\n",
    "            nn.ReLU(),\n",
    "            nn.Conv2d(8,16,3, padding=0),\n",
    "            nn.ReLU(),\n",
    "            nn.MaxPool2d(2),\n",
    "            nn.Conv2d(16,32,3, padding=0),\n",
    "            nn.ReLU(),\n",
    "            nn.MaxPool2d(2))\n",
    "\n",
    "        # TODO 2: Initialise an MLP module\n",
    "        self.mlp = MLP(device, input_size = 32*5*5, output_size=10)\n",
    "\n",
    "        # Transfer the model weights to the GPU\n",
    "        self.to(device)\n",
    "\n",
    "    def forward(self, x):\n",
    "      \n",
    "        features = self.feature_extractor(x)\n",
    "        return self.mlp(features)\n"
   ]
  }
 ],
 "metadata": {
  "kernelspec": {
   "display_name": "pygame_env",
   "language": "python",
   "name": "python3"
  },
  "language_info": {
   "codemirror_mode": {
    "name": "ipython",
    "version": 3
   },
   "file_extension": ".py",
   "mimetype": "text/x-python",
   "name": "python",
   "nbconvert_exporter": "python",
   "pygments_lexer": "ipython3",
   "version": "3.13.2"
  }
 },
 "nbformat": 4,
 "nbformat_minor": 2
}
